{
 "cells": [
  {
   "cell_type": "markdown",
   "metadata": {},
   "source": [
    "# Tensor printing\n"
   ]
  },
  {
   "cell_type": "code",
   "execution_count": 1,
   "metadata": {},
   "outputs": [],
   "source": [
    "%load_ext autoreload\n",
    "\n",
    "%autoreload 2\n",
    "\n",
    "import numpy as np\n",
    "import ndarray_str as au\n"
   ]
  },
  {
   "cell_type": "markdown",
   "metadata": {},
   "source": [
    "## One-line tensor printing.\n",
    "\n",
    "PyTorch's printing options don't allow for a good one-line representation of tensors.\n",
    "The function `ndarray_str` prints them in a manner that summarizes more of the tensor's contents.\n",
    "\n",
    "For small tensors, it's kinda the same, but with everything on one line."
   ]
  },
  {
   "cell_type": "code",
   "execution_count": 4,
   "metadata": {},
   "outputs": [
    {
     "name": "stdout",
     "output_type": "stream",
     "text": [
      "standard numpy printing: a =  [[[-0.11502956  0.58499632  0.42074033]]\n",
      "\n",
      " [[ 0.56539461  0.1615599   0.33060819]]]\n"
     ]
    }
   ],
   "source": [
    "a = np.random.rand(2, 1, 3) - 0.2\n",
    "print('standard numpy printing: a = ', a)"
   ]
  },
  {
   "cell_type": "code",
   "execution_count": 7,
   "metadata": {},
   "outputs": [
    {
     "name": "stdout",
     "output_type": "stream",
     "text": [
      "ndarray_str printing: a = f64[2x1x3] [-0.115 0.585 0.421 0.565 0.162 0.331]\n"
     ]
    }
   ],
   "source": [
    "print('ndarray_str printing: a =', au.ndarray_str(a))"
   ]
  },
  {
   "cell_type": "markdown",
   "metadata": {},
   "source": [
    "It flattens the tensor to fit on one line, but prefixes it with the shape and dtype, so you can still see them.\n",
    "\n",
    "Only 3 significant figures?  But what about tensors with lots of large/small values?"
   ]
  },
  {
   "cell_type": "code",
   "execution_count": 9,
   "metadata": {},
   "outputs": [
    {
     "name": "stdout",
     "output_type": "stream",
     "text": [
      "a = f64[2x1x3] 10^5 x [0.000 4.008 0.555 3.267 0.002 0.131]\n"
     ]
    }
   ],
   "source": [
    "print('a =', au.ndarray_str(a**6 * 1e7))"
   ]
  },
  {
   "cell_type": "markdown",
   "metadata": {},
   "source": [
    "We use the MATLAB idea of pulling out the common power-of-10 scale factor, so you can still read individual entries."
   ]
  },
  {
   "cell_type": "markdown",
   "metadata": {},
   "source": [
    "For large tensors, instead of just dropping values, we print the values at certain percentiles:"
   ]
  },
  {
   "cell_type": "code",
   "execution_count": 13,
   "metadata": {},
   "outputs": [
    {
     "name": "stdout",
     "output_type": "stream",
     "text": [
      "b = f64[11x22x33] Percentiles{-0.200 -0.147 0.047 0.298 0.547 0.747 0.800}\n"
     ]
    }
   ],
   "source": [
    "b = np.random.rand(11, 22, 33) - 0.2\n",
    "# print(a) <--- This would print *a lot*, but also with lots of \"...\"\n",
    "\n",
    "print('b =', au.ndarray_str(b))"
   ]
  }
 ],
 "metadata": {
  "kernelspec": {
   "display_name": "Python 3",
   "language": "python",
   "name": "python3"
  },
  "language_info": {
   "codemirror_mode": {
    "name": "ipython",
    "version": 3
   },
   "file_extension": ".py",
   "mimetype": "text/x-python",
   "name": "python",
   "nbconvert_exporter": "python",
   "pygments_lexer": "ipython3",
   "version": "3.12.3"
  }
 },
 "nbformat": 4,
 "nbformat_minor": 2
}
