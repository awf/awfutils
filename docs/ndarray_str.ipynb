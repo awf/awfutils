{
 "cells": [
  {
   "cell_type": "markdown",
   "metadata": {},
   "source": [
    "# Tensor printing\n"
   ]
  },
  {
   "cell_type": "code",
   "execution_count": 1,
   "metadata": {},
   "outputs": [],
   "source": [
    "%load_ext autoreload\n",
    "\n",
    "%autoreload 2\n",
    "\n",
    "import numpy as np\n",
    "import awfutils as au\n",
    "\n",
    "np.random.seed(42)"
   ]
  },
  {
   "cell_type": "markdown",
   "metadata": {},
   "source": [
    "## One-line tensor printing.\n",
    "\n",
    "PyTorch's printing options don't allow for a good one-line representation of tensors.\n",
    "The function `ndarray_str` prints them in a manner that summarizes more of the tensor's contents.\n",
    "\n",
    "For small tensors, it's kinda the same, but with everything on one line."
   ]
  },
  {
   "cell_type": "code",
   "execution_count": 2,
   "metadata": {},
   "outputs": [
    {
     "name": "stdout",
     "output_type": "stream",
     "text": [
      "standard numpy printing: a =  [[[ 0.17454012  0.75071431  0.53199394]]\n",
      "\n",
      " [[ 0.39865848 -0.04398136 -0.04400548]]]\n"
     ]
    }
   ],
   "source": [
    "a = np.random.rand(2, 1, 3) - 0.2\n",
    "print(\"standard numpy printing: a = \", a)"
   ]
  },
  {
   "cell_type": "code",
   "execution_count": 3,
   "metadata": {},
   "outputs": [
    {
     "name": "stdout",
     "output_type": "stream",
     "text": [
      "ndarray_str printing: a = f64[2x1x3] [[[0.175 0.751 0.532]], [[0.399 -0.044 -0.044]]]\n"
     ]
    }
   ],
   "source": [
    "print(\"ndarray_str printing: a =\", au.ndarray_str(a))"
   ]
  },
  {
   "cell_type": "markdown",
   "metadata": {},
   "source": [
    "It flattens the tensor to fit on one line, but prefixes it with the shape and dtype, so you can still see them.\n",
    "\n",
    "Only 3 significant figures?  But what about tensors with lots of large/small values?"
   ]
  },
  {
   "cell_type": "code",
   "execution_count": 4,
   "metadata": {},
   "outputs": [
    {
     "name": "stdout",
     "output_type": "stream",
     "text": [
      "a = f64[2x1x3] 10^6 x [[[0.000 1.790 0.227]], [[0.040 0.000 0.000]]]\n"
     ]
    }
   ],
   "source": [
    "print(\"a =\", au.ndarray_str(a**6 * 1e7))"
   ]
  },
  {
   "cell_type": "markdown",
   "metadata": {},
   "source": [
    "We use the MATLAB idea of pulling out the common power-of-10 scale factor, so you can still read individual entries."
   ]
  },
  {
   "cell_type": "markdown",
   "metadata": {},
   "source": [
    "For large tensors, instead of just dropping values, we print the values at certain percentiles:"
   ]
  },
  {
   "cell_type": "code",
   "execution_count": 5,
   "metadata": {},
   "outputs": [
    {
     "name": "stdout",
     "output_type": "stream",
     "text": [
      "b = f64[11x22x33] Percentiles{-0.200 -0.149 0.043 0.293 0.544 0.748 0.800}\n"
     ]
    }
   ],
   "source": [
    "b = np.random.rand(11, 22, 33) - 0.2\n",
    "# print(a) <--- This would print *a lot*, but also with lots of \"...\"\n",
    "\n",
    "print(\"b =\", au.ndarray_str(b))"
   ]
  }
 ],
 "metadata": {
  "kernelspec": {
   "display_name": "awfutils-test",
   "language": "python",
   "name": "python3"
  },
  "language_info": {
   "codemirror_mode": {
    "name": "ipython",
    "version": 3
   },
   "file_extension": ".py",
   "mimetype": "text/x-python",
   "name": "python",
   "nbconvert_exporter": "python",
   "pygments_lexer": "ipython3",
   "version": "3.13.0"
  }
 },
 "nbformat": 4,
 "nbformat_minor": 2
}
