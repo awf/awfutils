{
 "cells": [
  {
   "cell_type": "markdown",
   "id": "a81d09a5",
   "metadata": {},
   "source": [
    "## awfutils.typecheck: Run-time type checking for annotations\n",
    "\n",
    "I love run time type checkers, [particularly with JAX](https://github.com/google/jaxtyping/blob/main/FAQ.md#what-about-support-for-static-type-checkers-like-mypy-pyright-etc) but by default they don't check statement-level annotations like these:"
   ]
  },
  {
   "cell_type": "code",
   "execution_count": 1,
   "id": "d3e1d7cd",
   "metadata": {},
   "outputs": [
    {
     "data": {
      "text/plain": [
       "12.480000000000002"
      ]
     },
     "execution_count": 1,
     "metadata": {},
     "output_type": "execute_result"
    }
   ],
   "source": [
    "def foo(x : int, y : float):\n",
    "  z : int = x * y # This should error, but doesn't\n",
    "  w : float = z * 3.2\n",
    "  return w\n",
    "\n",
    "foo(3, 1.3)"
   ]
  },
  {
   "cell_type": "markdown",
   "id": "2c73738f",
   "metadata": {},
   "source": [
    "With the awfutils `typecheck` decorator, they can..."
   ]
  },
  {
   "cell_type": "code",
   "execution_count": 2,
   "id": "9e5a271f",
   "metadata": {},
   "outputs": [
    {
     "name": "stdout",
     "output_type": "stream",
     "text": [
      "YAY. Caught TypeError\n",
      "Error: z not of type int, was <class 'float'>, value 3.9000000000000004\n"
     ]
    }
   ],
   "source": [
    "from awfutils import typecheck\n",
    "\n",
    "@typecheck\n",
    "def foo(x : int, y : float):\n",
    "  z : int = x * y # Now it raises TypeError: z not of type int\n",
    "  w : float = z * 3.2\n",
    "  return w\n",
    "\n",
    "try:\n",
    "  foo(3, 1.3) # Error comes from this call\n",
    "  print(\"BOO. Should not get here\")\n",
    "except TypeError as e:\n",
    "  print(\"YAY. Caught TypeError\")\n",
    "  print(\"Error:\", e)"
   ]
  },
  {
   "cell_type": "markdown",
   "id": "be0eeb67",
   "metadata": {},
   "source": [
    "And you can use a callable instead to check more complex concepts"
   ]
  },
  {
   "cell_type": "code",
   "execution_count": 3,
   "id": "4295e46e",
   "metadata": {},
   "outputs": [
    {
     "name": "stdout",
     "output_type": "stream",
     "text": [
      "YAY. Caught TypeError\n",
      "Error: z does not satisfy is_square_tensor\n"
     ]
    }
   ],
   "source": [
    "import torch\n",
    "\n",
    "def is_square_tensor(x):\n",
    "  return x.shape[0] == x.shape[1]\n",
    "\n",
    "@typecheck\n",
    "def foo(x : torch.Tensor):\n",
    "  z : is_square_tensor = x * 3 # check result is square\n",
    "  return z\n",
    "\n",
    "try:\n",
    "  foo(torch.ones(3,4))\n",
    "  print(\"BOO. Should not get here\")\n",
    "except TypeError as e:\n",
    "  print(\"YAY. Caught TypeError\")\n",
    "  print(\"Error:\", e)"
   ]
  },
  {
   "cell_type": "markdown",
   "id": "313566f8",
   "metadata": {},
   "source": [
    "Or define local shape checkers, using runtime-derived values"
   ]
  },
  {
   "cell_type": "code",
   "execution_count": 4,
   "id": "5faf7f0f",
   "metadata": {},
   "outputs": [
    {
     "name": "stdout",
     "output_type": "stream",
     "text": [
      "YAY. Caught TypeError\n",
      "Error: w does not satisfy LxL\n"
     ]
    }
   ],
   "source": [
    "def is_shape(*sh):\n",
    "  return lambda x: x.shape == sh \n",
    "\n",
    "@typecheck\n",
    "def foo(x : torch.Tensor):\n",
    "  L,D = x.shape # Get shape of X\n",
    "  LxD = is_shape(L,D) # LxD(v) checks that v is LxD\n",
    "  LxL = is_shape(L,L) # LxD(v) checks that v is LxD\n",
    "\n",
    "  z : LxL = x @ x.T # check result is LxL\n",
    "  w : LxL = z @ x # Should fail - we meant LxD\n",
    "  return w\n",
    "\n",
    "try:\n",
    "  foo(torch.ones(3,4))\n",
    "  print(\"BOO. Should not get here\")\n",
    "except TypeError as e:\n",
    "  print(\"YAY. Caught TypeError\")\n",
    "  print(\"Error:\", e)"
   ]
  },
  {
   "cell_type": "markdown",
   "id": "d76c622f",
   "metadata": {},
   "source": [
    "## How it works: source-code transformation\n",
    "This works by AST transformation, replacing the function with a new version, with additional statements inserted to perform the type checks.\n",
    "\n",
    "So the function foo from above\n",
    "```py\n",
    "def foo(x : int, y : float):\n",
    "  z : int = x * y\n",
    "  w : float = z * 3.2\n",
    "  return w\n",
    "```\n",
    "is transformed into (see the cell below)\n",
    "```py\n",
    "def foo_typecheck_wrap(x: int, y: float):\n",
    "  # Check argument annotations:\n",
    "  typecheck.check_annot(x, int, 'x', 'int')\n",
    "  typecheck.check_annot(y, float, 'y', 'float')\n",
    "\n",
    "  # Function body with checked statement annotations:\n",
    "  z: int = x * y\n",
    "  typecheck.check_annot(z, int, 'z', 'int')\n",
    "  w: float = z * 3.2\n",
    "  typecheck.check_annot(w, float, 'w', 'float')\n",
    "  return w\n",
    "```"
   ]
  },
  {
   "cell_type": "code",
   "execution_count": 5,
   "id": "b7b5d481",
   "metadata": {},
   "outputs": [
    {
     "name": "stdout",
     "output_type": "stream",
     "text": [
      "typecheck: Transformed source code\n",
      "def _():\n",
      "\n",
      "    @typecheck(show_src=True)\n",
      "    def foo_typecheck_wrap(x: int, y: float):\n",
      "        typecheck.check_annot(x, int, 'x', 'int')\n",
      "        typecheck.check_annot(y, float, 'y', 'float')\n",
      "        z: int = x * y\n",
      "        typecheck.check_annot(z, int, 'z', 'int')\n",
      "        w: float = z * 3.2\n",
      "        typecheck.check_annot(w, float, 'w', 'float')\n",
      "        return w\n"
     ]
    }
   ],
   "source": [
    "@typecheck(show_src=True)\n",
    "def foo(x : int, y : float):\n",
    "  z : int = x * y\n",
    "  w : float = z * 3.2\n",
    "  return w"
   ]
  }
 ],
 "metadata": {
  "kernelspec": {
   "display_name": "awfutils-test",
   "language": "python",
   "name": "python3"
  },
  "language_info": {
   "codemirror_mode": {
    "name": "ipython",
    "version": 3
   },
   "file_extension": ".py",
   "mimetype": "text/x-python",
   "name": "python",
   "nbconvert_exporter": "python",
   "pygments_lexer": "ipython3",
   "version": "3.13.0"
  }
 },
 "nbformat": 4,
 "nbformat_minor": 5
}
